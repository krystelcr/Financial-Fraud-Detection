{
 "cells": [
  {
   "cell_type": "code",
   "execution_count": 13,
   "metadata": {},
   "outputs": [],
   "source": [
    "import pandas as pd\n",
    "import matplotlib.pyplot as plt\n",
    "import seaborn as sns\n",
    "import numpy as np\n",
    "from sklearn.model_selection import train_test_split, GridSearchCV\n",
    "from sklearn.preprocessing import StandardScaler\n",
    "from sklearn.linear_model import LogisticRegression\n",
    "from sklearn.naive_bayes import GaussianNB\n",
    "from sklearn.neighbors import KNeighborsClassifier\n",
    "from sklearn.svm import SVC\n",
    "from sklearn.metrics import classification_report, accuracy_score, confusion_matrix, roc_curve, auc"
   ]
  },
  {
   "cell_type": "code",
   "execution_count": 22,
   "metadata": {},
   "outputs": [],
   "source": [
    "# cleaned dataset\n",
    "df = pd.read_csv(\"/Users/sa2/Desktop/TKH/Financial-Fraud-Detection/data/processed/cleanedfrauddata.csv\")\n",
    "\n",
    "# Separate features and target\n",
    "X = df.drop(columns=[\"isFraud\"])\n",
    "y = df[\"isFraud\"]\n",
    "\n",
    "# Split into train and test sets\n",
    "X_train, X_test, y_train, y_test = train_test_split(X, y, test_size=0.2, random_state=42)"
   ]
  },
  {
   "cell_type": "code",
   "execution_count": 23,
   "metadata": {},
   "outputs": [],
   "source": [
    "# train\n",
    "logreg = LogisticRegression()\n",
    "logreg.fit(X_train, y_train)\n",
    "# predict\n",
    "predlog = logreg.predict(X_test)"
   ]
  },
  {
   "cell_type": "code",
   "execution_count": 24,
   "metadata": {},
   "outputs": [
    {
     "name": "stdout",
     "output_type": "stream",
     "text": [
      "0.9991992292483285\n",
      "[[1270864      40]\n",
      " [    979     641]]\n",
      "              precision    recall  f1-score   support\n",
      "\n",
      "           0       1.00      1.00      1.00   1270904\n",
      "           1       0.94      0.40      0.56      1620\n",
      "\n",
      "    accuracy                           1.00   1272524\n",
      "   macro avg       0.97      0.70      0.78   1272524\n",
      "weighted avg       1.00      1.00      1.00   1272524\n",
      "\n"
     ]
    }
   ],
   "source": [
    "print(accuracy_score(y_test, predlog))\n",
    "print(confusion_matrix(y_test, predlog))\n",
    "print(classification_report(y_test, predlog))"
   ]
  },
  {
   "cell_type": "markdown",
   "metadata": {},
   "source": [
    "# logistic regression results\n",
    "\n",
    "accuracy: 99.92%\n",
    "high accuracy; however, this can be misleading due to class imbalance\n",
    "\n",
    "confusion matrix:\n",
    "- 0 false positives (wrongly classified as fraud)\n",
    "- 979 false negatives (missed fraud cases)\n",
    "\n",
    "precision, recall, and f1-score:\n",
    "- precision 94%, very few false fraud alerts\n",
    "- recall 40%, dosent catch enough real fraud cases\n",
    "- f1-score 56%, confirms imbalance (high precision but low recall)\n",
    "\n",
    "model is too cautious, missing fraud"
   ]
  },
  {
   "cell_type": "code",
   "execution_count": 27,
   "metadata": {},
   "outputs": [],
   "source": [
    "# train\n",
    "nb = GaussianNB()\n",
    "nb.fit(X_train, y_train)\n",
    "\n",
    "#predict\n",
    "yprednb = nb.predict(X_test)"
   ]
  },
  {
   "cell_type": "code",
   "execution_count": 30,
   "metadata": {},
   "outputs": [
    {
     "name": "stdout",
     "output_type": "stream",
     "text": [
      "0.8921034102303768\n",
      "[[1133969  136935]\n",
      " [    366    1254]]\n",
      "              precision    recall  f1-score   support\n",
      "\n",
      "           0       1.00      0.89      0.94   1270904\n",
      "           1       0.01      0.77      0.02      1620\n",
      "\n",
      "    accuracy                           0.89   1272524\n",
      "   macro avg       0.50      0.83      0.48   1272524\n",
      "weighted avg       1.00      0.89      0.94   1272524\n",
      "\n"
     ]
    }
   ],
   "source": [
    "print(accuracy_score(y_test, yprednb))\n",
    "print(confusion_matrix(y_test, yprednb))\n",
    "print(classification_report(y_test, yprednb))"
   ]
  },
  {
   "cell_type": "markdown",
   "metadata": {},
   "source": [
    "# naive bayes results\n",
    "\n",
    "accuracy: 89.21%\n",
    "\n",
    "confusion matrix:\n",
    "- 136,935 false positives (wrongly classified as fraud)\n",
    "- 366 false negatives (missed fraud cases)\n",
    "\n",
    "precision, recall, and f1-score:\n",
    "- precision 1%, very low (high false positive rate)\n",
    "- recall 77%, only 23% of fraud cases are missed\n",
    "- f1-score 2%, very low, poor balance between precision and recall\n",
    "\n",
    "misses few fraud cases (high recall) but labels too many non-fraud transactions as fraud (low precision)"
   ]
  },
  {
   "cell_type": "code",
   "execution_count": 34,
   "metadata": {},
   "outputs": [
    {
     "name": "stdout",
     "output_type": "stream",
     "text": [
      "{'n_neighbors': 3}\n"
     ]
    }
   ],
   "source": [
    "# hyperparameter tuning for kNN\n",
    "paramgrid = {'n_neighbors': [3, 5, 7, 9]} # values to test\n",
    "gridknn = GridSearchCV(KNeighborsClassifier(), paramgrid, cv=5, scoring='f1') \n",
    "gridknn.fit(X_train, y_train) # fits model on training data with cross-validation\n",
    "\n",
    "print(gridknn.best_params_) # prints best k value\n",
    "\n",
    "#train with best parameter\n",
    "knn = KNeighborsClassifier(n_neighbors=gridknn.best_params_['n_neighbors'])\n",
    "knn.fit(X_train, y_train)\n",
    "\n",
    "#predict\n",
    "ypredknn = knn.predict(X_test)"
   ]
  },
  {
   "cell_type": "code",
   "execution_count": 35,
   "metadata": {},
   "outputs": [
    {
     "name": "stdout",
     "output_type": "stream",
     "text": [
      "0.9993658272849864\n",
      "[[1270859      45]\n",
      " [    762     858]]\n",
      "              precision    recall  f1-score   support\n",
      "\n",
      "           0       1.00      1.00      1.00   1270904\n",
      "           1       0.95      0.53      0.68      1620\n",
      "\n",
      "    accuracy                           1.00   1272524\n",
      "   macro avg       0.97      0.76      0.84   1272524\n",
      "weighted avg       1.00      1.00      1.00   1272524\n",
      "\n"
     ]
    }
   ],
   "source": [
    "print(accuracy_score(y_test, ypredknn))\n",
    "print(confusion_matrix(y_test, ypredknn))\n",
    "print(classification_report(y_test, ypredknn))"
   ]
  },
  {
   "cell_type": "markdown",
   "metadata": {},
   "source": [
    "# k-nearest neighbors results\n",
    "\n",
    "accuracy: 99.94%\n",
    "few mistakes, but accuracy alone isn't enough to assess fraud detection performance (goes for all models)\n",
    "\n",
    "confusion matrix:\n",
    "- 45 false positives (wrongly classified as fraud)\n",
    "- 762 false negatives (missed fraud cases)\n",
    "\n",
    "precision, recall, and f1-score:\n",
    "- precision 95%,  very few false alarms\n",
    "- recall 53%, nearly half of fraud cases are missed\n",
    "- f1-score 68%, high precision low recall\n",
    "\n",
    "kNN (like logistic regression) is too cautious, missing fraud"
   ]
  },
  {
   "cell_type": "code",
   "execution_count": 21,
   "metadata": {},
   "outputs": [
    {
     "data": {
      "image/png": "[encoded data removed]",
      "text/plain": [
       "<Figure size 1000x600 with 1 Axes>"
      ]
     },
     "metadata": {},
     "output_type": "display_data"
    }
   ],
   "source": [
    "# models and scores\n",
    "models = [\"Logistic Regression\", \"Naïve Bayes\", \"k-Nearest Neighbors\"]\n",
    "precision = [0.94, 0.01, 0.95]\n",
    "recall = [0.40, 0.77, 0.53]\n",
    "f1_score = [0.56, 0.02, 0.68]\n",
    "\n",
    "# numpy array for positioning\n",
    "x = np.arange(len(models))\n",
    "width = 0.2\n",
    "\n",
    "# grouped bar chart\n",
    "fig, ax = plt.subplots(figsize=(10, 6))\n",
    "ax.bar(x - width, precision, width, label='Precision')\n",
    "ax.bar(x, recall, width, label='Recall')\n",
    "ax.bar(x + width, f1_score, width, label='F1-Score')\n",
    "\n",
    "ax.set_xticks(x)\n",
    "ax.set_xticklabels(models)\n",
    "ax.set_xlabel(\"Model\")\n",
    "ax.set_ylabel(\"Score\")\n",
    "ax.set_title(\"Comparison of Fraud Detection Models\")\n",
    "ax.legend()\n",
    "\n",
    "plt.show()\n",
    "\n"
   ]
  },
  {
   "cell_type": "markdown",
   "metadata": {},
   "source": [
    "- kNN has the highest accuracy and precision, but recall is weak; highest F1-score, making it the best balanced model \n",
    "- logistic regression has lower recall but similar precision\n",
    "- naive bayes struggles with precision but catches most fraud cases (high recall)"
   ]
  }
 ],
 "metadata": {
  "kernelspec": {
   "display_name": "base",
   "language": "python",
   "name": "python3"
  },
  "language_info": {
   "codemirror_mode": {
    "name": "ipython",
    "version": 3
   },
   "file_extension": ".py",
   "mimetype": "text/x-python",
   "name": "python",
   "nbconvert_exporter": "python",
   "pygments_lexer": "ipython3",
   "version": "3.12.4"
  }
 },
 "nbformat": 4,
 "nbformat_minor": 2
}
